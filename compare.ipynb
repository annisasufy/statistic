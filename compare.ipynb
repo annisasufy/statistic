{
 "cells": [
  {
   "cell_type": "code",
   "execution_count": 1,
   "metadata": {},
   "outputs": [],
   "source": [
    "import pandas as pd"
   ]
  },
  {
   "cell_type": "code",
   "execution_count": 3,
   "metadata": {},
   "outputs": [],
   "source": [
    "dfL = pd.read_csv('twitter_label_auto.csv')"
   ]
  },
  {
   "cell_type": "code",
   "execution_count": 11,
   "metadata": {},
   "outputs": [
    {
     "data": {
      "text/html": [
       "<div>\n",
       "<style scoped>\n",
       "    .dataframe tbody tr th:only-of-type {\n",
       "        vertical-align: middle;\n",
       "    }\n",
       "\n",
       "    .dataframe tbody tr th {\n",
       "        vertical-align: top;\n",
       "    }\n",
       "\n",
       "    .dataframe thead th {\n",
       "        text-align: right;\n",
       "    }\n",
       "</style>\n",
       "<table border=\"1\" class=\"dataframe\">\n",
       "  <thead>\n",
       "    <tr style=\"text-align: right;\">\n",
       "      <th></th>\n",
       "      <th>id_str</th>\n",
       "      <th>created_at</th>\n",
       "      <th>crawled_at</th>\n",
       "      <th>screen_name</th>\n",
       "      <th>full_text</th>\n",
       "      <th>full_tweet</th>\n",
       "    </tr>\n",
       "  </thead>\n",
       "  <tbody>\n",
       "    <tr>\n",
       "      <th>0</th>\n",
       "      <td>1113812743138697216</td>\n",
       "      <td>2019-04-04 21:37:06</td>\n",
       "      <td>2020-02-08 12:30:13</td>\n",
       "      <td>vtvindonesia</td>\n",
       "      <td>Pelajar SMP Tewas Kecelakaan di Jalinsum Banda...</td>\n",
       "      <td>{\"created_at\": \"Thu Apr 04 14:37:06 +0000 2019...</td>\n",
       "    </tr>\n",
       "    <tr>\n",
       "      <th>1</th>\n",
       "      <td>1113813804708548608</td>\n",
       "      <td>2019-04-04 21:41:19</td>\n",
       "      <td>2020-02-08 12:30:13</td>\n",
       "      <td>briand_fergie</td>\n",
       "      <td>Orang-orang pulang nonton film ini langsung ga...</td>\n",
       "      <td>{\"created_at\": \"Thu Apr 04 14:41:19 +0000 2019...</td>\n",
       "    </tr>\n",
       "    <tr>\n",
       "      <th>2</th>\n",
       "      <td>1113823718956908545</td>\n",
       "      <td>2019-04-04 22:20:43</td>\n",
       "      <td>2020-02-08 12:30:13</td>\n",
       "      <td>dimanamacetid</td>\n",
       "      <td>[22:14] #JAKARTA #KECELAKAAN Rawamangun #TMC</td>\n",
       "      <td>{\"created_at\": \"Thu Apr 04 15:20:43 +0000 2019...</td>\n",
       "    </tr>\n",
       "    <tr>\n",
       "      <th>3</th>\n",
       "      <td>1113846220986900480</td>\n",
       "      <td>2019-04-04 23:50:08</td>\n",
       "      <td>2020-02-08 12:30:14</td>\n",
       "      <td>imaamhanavi</td>\n",
       "      <td>[83:1] Kecelakaan besarlah bagi orang-orang ya...</td>\n",
       "      <td>{\"created_at\": \"Thu Apr 04 16:50:08 +0000 2019...</td>\n",
       "    </tr>\n",
       "    <tr>\n",
       "      <th>4</th>\n",
       "      <td>1113847850801090560</td>\n",
       "      <td>2019-04-04 23:56:36</td>\n",
       "      <td>2020-02-08 12:30:14</td>\n",
       "      <td>mdntkptr</td>\n",
       "      <td>Anggapannya kayak mobil vs motor kecelakaan, y...</td>\n",
       "      <td>{\"created_at\": \"Thu Apr 04 16:56:36 +0000 2019...</td>\n",
       "    </tr>\n",
       "    <tr>\n",
       "      <th>...</th>\n",
       "      <td>...</td>\n",
       "      <td>...</td>\n",
       "      <td>...</td>\n",
       "      <td>...</td>\n",
       "      <td>...</td>\n",
       "      <td>...</td>\n",
       "    </tr>\n",
       "    <tr>\n",
       "      <th>157624</th>\n",
       "      <td>1247456050057367553</td>\n",
       "      <td>2020-04-07 16:27:53</td>\n",
       "      <td>2020-04-07 16:30:09</td>\n",
       "      <td>Rezkydwianti27</td>\n",
       "      <td>Ya Allah kaget, kebiasaan nih mama banguninnya...</td>\n",
       "      <td>{\"created_at\": \"Tue Apr 07 09:27:53 +0000 2020...</td>\n",
       "    </tr>\n",
       "    <tr>\n",
       "      <th>157625</th>\n",
       "      <td>1247461248800706564</td>\n",
       "      <td>2020-04-07 16:48:33</td>\n",
       "      <td>2020-04-07 17:00:09</td>\n",
       "      <td>suarajawatimur</td>\n",
       "      <td>https://t.co/s9JBaGopSb</td>\n",
       "      <td>{\"created_at\": \"Tue Apr 07 09:48:33 +0000 2020...</td>\n",
       "    </tr>\n",
       "    <tr>\n",
       "      <th>157626</th>\n",
       "      <td>1247461274939576326</td>\n",
       "      <td>2020-04-07 16:48:39</td>\n",
       "      <td>2020-04-07 17:00:09</td>\n",
       "      <td>GhaneshRM</td>\n",
       "      <td>dari lahir sampai sekarang omongan anak sndiri...</td>\n",
       "      <td>{\"created_at\": \"Tue Apr 07 09:48:39 +0000 2020...</td>\n",
       "    </tr>\n",
       "    <tr>\n",
       "      <th>157627</th>\n",
       "      <td>1247461772891549696</td>\n",
       "      <td>2020-04-07 16:50:38</td>\n",
       "      <td>2020-04-07 17:00:09</td>\n",
       "      <td>rightafterre</td>\n",
       "      <td>When the wheather is fine tuh keliatannya aja ...</td>\n",
       "      <td>{\"created_at\": \"Tue Apr 07 09:50:38 +0000 2020...</td>\n",
       "    </tr>\n",
       "    <tr>\n",
       "      <th>157628</th>\n",
       "      <td>1247463208262045696</td>\n",
       "      <td>2020-04-07 16:56:20</td>\n",
       "      <td>2020-04-07 17:00:09</td>\n",
       "      <td>siskamawardi</td>\n",
       "      <td>Apakah nikah muda adalah aib keluarga?\\nApakah...</td>\n",
       "      <td>{\"created_at\": \"Tue Apr 07 09:56:20 +0000 2020...</td>\n",
       "    </tr>\n",
       "  </tbody>\n",
       "</table>\n",
       "<p>157629 rows × 6 columns</p>\n",
       "</div>"
      ],
      "text/plain": [
       "                     id_str           created_at           crawled_at  \\\n",
       "0       1113812743138697216  2019-04-04 21:37:06  2020-02-08 12:30:13   \n",
       "1       1113813804708548608  2019-04-04 21:41:19  2020-02-08 12:30:13   \n",
       "2       1113823718956908545  2019-04-04 22:20:43  2020-02-08 12:30:13   \n",
       "3       1113846220986900480  2019-04-04 23:50:08  2020-02-08 12:30:14   \n",
       "4       1113847850801090560  2019-04-04 23:56:36  2020-02-08 12:30:14   \n",
       "...                     ...                  ...                  ...   \n",
       "157624  1247456050057367553  2020-04-07 16:27:53  2020-04-07 16:30:09   \n",
       "157625  1247461248800706564  2020-04-07 16:48:33  2020-04-07 17:00:09   \n",
       "157626  1247461274939576326  2020-04-07 16:48:39  2020-04-07 17:00:09   \n",
       "157627  1247461772891549696  2020-04-07 16:50:38  2020-04-07 17:00:09   \n",
       "157628  1247463208262045696  2020-04-07 16:56:20  2020-04-07 17:00:09   \n",
       "\n",
       "           screen_name                                          full_text  \\\n",
       "0         vtvindonesia  Pelajar SMP Tewas Kecelakaan di Jalinsum Banda...   \n",
       "1        briand_fergie  Orang-orang pulang nonton film ini langsung ga...   \n",
       "2        dimanamacetid       [22:14] #JAKARTA #KECELAKAAN Rawamangun #TMC   \n",
       "3          imaamhanavi  [83:1] Kecelakaan besarlah bagi orang-orang ya...   \n",
       "4             mdntkptr  Anggapannya kayak mobil vs motor kecelakaan, y...   \n",
       "...                ...                                                ...   \n",
       "157624  Rezkydwianti27  Ya Allah kaget, kebiasaan nih mama banguninnya...   \n",
       "157625  suarajawatimur                            https://t.co/s9JBaGopSb   \n",
       "157626       GhaneshRM  dari lahir sampai sekarang omongan anak sndiri...   \n",
       "157627    rightafterre  When the wheather is fine tuh keliatannya aja ...   \n",
       "157628    siskamawardi  Apakah nikah muda adalah aib keluarga?\\nApakah...   \n",
       "\n",
       "                                               full_tweet  \n",
       "0       {\"created_at\": \"Thu Apr 04 14:37:06 +0000 2019...  \n",
       "1       {\"created_at\": \"Thu Apr 04 14:41:19 +0000 2019...  \n",
       "2       {\"created_at\": \"Thu Apr 04 15:20:43 +0000 2019...  \n",
       "3       {\"created_at\": \"Thu Apr 04 16:50:08 +0000 2019...  \n",
       "4       {\"created_at\": \"Thu Apr 04 16:56:36 +0000 2019...  \n",
       "...                                                   ...  \n",
       "157624  {\"created_at\": \"Tue Apr 07 09:27:53 +0000 2020...  \n",
       "157625  {\"created_at\": \"Tue Apr 07 09:48:33 +0000 2020...  \n",
       "157626  {\"created_at\": \"Tue Apr 07 09:48:39 +0000 2020...  \n",
       "157627  {\"created_at\": \"Tue Apr 07 09:50:38 +0000 2020...  \n",
       "157628  {\"created_at\": \"Tue Apr 07 09:56:20 +0000 2020...  \n",
       "\n",
       "[157629 rows x 6 columns]"
      ]
     },
     "execution_count": 11,
     "metadata": {},
     "output_type": "execute_result"
    }
   ],
   "source": [
    "df = pd.read_csv('twitterKecelakaan.csv')\n",
    "df"
   ]
  },
  {
   "cell_type": "code",
   "execution_count": 7,
   "metadata": {},
   "outputs": [],
   "source": [
    "label_text = dfL['full_text'].to_list()\n",
    "ori_text = df['full_text'].to_list()"
   ]
  },
  {
   "cell_type": "code",
   "execution_count": 9,
   "metadata": {},
   "outputs": [],
   "source": [
    "label_date = []"
   ]
  },
  {
   "cell_type": "code",
   "execution_count": 13,
   "metadata": {},
   "outputs": [
    {
     "ename": "TypeError",
     "evalue": "'>' not supported between instances of 'builtin_function_or_method' and 'int'",
     "output_type": "error",
     "traceback": [
      "\u001b[1;31m---------------------------------------------------------------------------\u001b[0m",
      "\u001b[1;31mTypeError\u001b[0m                                 Traceback (most recent call last)",
      "\u001b[1;32md:\\NISOL\\Kuliah\\KELAS\\3_STATISTIKA\\statistik\\compare.ipynb Cell 6\u001b[0m in \u001b[0;36m<cell line: 3>\u001b[1;34m()\u001b[0m\n\u001b[0;32m      <a href='vscode-notebook-cell:/d%3A/NISOL/Kuliah/KELAS/3_STATISTIKA/statistik/compare.ipynb#W6sZmlsZQ%3D%3D?line=4'>5</a>\u001b[0m         \u001b[39mif\u001b[39;00m row[\u001b[39m'\u001b[39m\u001b[39mfull_text\u001b[39m\u001b[39m'\u001b[39m]\u001b[39m==\u001b[39mtext:\n\u001b[0;32m      <a href='vscode-notebook-cell:/d%3A/NISOL/Kuliah/KELAS/3_STATISTIKA/statistik/compare.ipynb#W6sZmlsZQ%3D%3D?line=5'>6</a>\u001b[0m             label_date\u001b[39m=\u001b[39mrow[\u001b[39m'\u001b[39m\u001b[39mcreated_at\u001b[39m\u001b[39m'\u001b[39m]\n\u001b[1;32m----> <a href='vscode-notebook-cell:/d%3A/NISOL/Kuliah/KELAS/3_STATISTIKA/statistik/compare.ipynb#W6sZmlsZQ%3D%3D?line=6'>7</a>\u001b[0m             \u001b[39mif\u001b[39;00m \u001b[39miter\u001b[39;49m\u001b[39m>\u001b[39;49m\u001b[39m5\u001b[39;49m:\n\u001b[0;32m      <a href='vscode-notebook-cell:/d%3A/NISOL/Kuliah/KELAS/3_STATISTIKA/statistik/compare.ipynb#W6sZmlsZQ%3D%3D?line=7'>8</a>\u001b[0m                 \u001b[39mbreak\u001b[39;00m\n\u001b[0;32m      <a href='vscode-notebook-cell:/d%3A/NISOL/Kuliah/KELAS/3_STATISTIKA/statistik/compare.ipynb#W6sZmlsZQ%3D%3D?line=8'>9</a>\u001b[0m \u001b[39mprint\u001b[39m(label_date)\n",
      "\u001b[1;31mTypeError\u001b[0m: '>' not supported between instances of 'builtin_function_or_method' and 'int'"
     ]
    }
   ],
   "source": [
    "label_text = dfL['full_text'].to_list()\n",
    "label_date = []\n",
    "for text in label_text:\n",
    "    for index, row in df.iterrows():\n",
    "        if row['full_text']==text:\n",
    "            label_date=row['created_at']\n",
    "        iter += 1\n",
    "    if iter>5:\n",
    "        break\n",
    "print(label_date)"
   ]
  },
  {
   "cell_type": "code",
   "execution_count": 12,
   "metadata": {},
   "outputs": [
    {
     "ename": "KeyboardInterrupt",
     "evalue": "",
     "output_type": "error",
     "traceback": [
      "\u001b[1;31m---------------------------------------------------------------------------\u001b[0m",
      "\u001b[1;31mKeyboardInterrupt\u001b[0m                         Traceback (most recent call last)",
      "\u001b[1;32md:\\NISOL\\Kuliah\\KELAS\\3_STATISTIKA\\statistik\\compare.ipynb Cell 7\u001b[0m in \u001b[0;36m<cell line: 1>\u001b[1;34m()\u001b[0m\n\u001b[0;32m      <a href='vscode-notebook-cell:/d%3A/NISOL/Kuliah/KELAS/3_STATISTIKA/statistik/compare.ipynb#W4sZmlsZQ%3D%3D?line=0'>1</a>\u001b[0m \u001b[39mfor\u001b[39;00m text \u001b[39min\u001b[39;00m label_text:\n\u001b[1;32m----> <a href='vscode-notebook-cell:/d%3A/NISOL/Kuliah/KELAS/3_STATISTIKA/statistik/compare.ipynb#W4sZmlsZQ%3D%3D?line=1'>2</a>\u001b[0m     \u001b[39mfor\u001b[39;00m index, row \u001b[39min\u001b[39;00m df\u001b[39m.\u001b[39miterrows():\n\u001b[0;32m      <a href='vscode-notebook-cell:/d%3A/NISOL/Kuliah/KELAS/3_STATISTIKA/statistik/compare.ipynb#W4sZmlsZQ%3D%3D?line=2'>3</a>\u001b[0m         \u001b[39mif\u001b[39;00m row[\u001b[39m'\u001b[39m\u001b[39mfull_text\u001b[39m\u001b[39m'\u001b[39m]\u001b[39m==\u001b[39mtext:\n\u001b[0;32m      <a href='vscode-notebook-cell:/d%3A/NISOL/Kuliah/KELAS/3_STATISTIKA/statistik/compare.ipynb#W4sZmlsZQ%3D%3D?line=3'>4</a>\u001b[0m             label_date\u001b[39m=\u001b[39mrow[\u001b[39m'\u001b[39m\u001b[39mcreated_at\u001b[39m\u001b[39m'\u001b[39m]\n",
      "File \u001b[1;32mc:\\Users\\Acer\\AppData\\Local\\Programs\\Python\\Python39\\lib\\site-packages\\pandas\\core\\frame.py:1324\u001b[0m, in \u001b[0;36mDataFrame.iterrows\u001b[1;34m(self)\u001b[0m\n\u001b[0;32m   1322\u001b[0m klass \u001b[39m=\u001b[39m \u001b[39mself\u001b[39m\u001b[39m.\u001b[39m_constructor_sliced\n\u001b[0;32m   1323\u001b[0m \u001b[39mfor\u001b[39;00m k, v \u001b[39min\u001b[39;00m \u001b[39mzip\u001b[39m(\u001b[39mself\u001b[39m\u001b[39m.\u001b[39mindex, \u001b[39mself\u001b[39m\u001b[39m.\u001b[39mvalues):\n\u001b[1;32m-> 1324\u001b[0m     s \u001b[39m=\u001b[39m klass(v, index\u001b[39m=\u001b[39;49mcolumns, name\u001b[39m=\u001b[39;49mk)\n\u001b[0;32m   1325\u001b[0m     \u001b[39myield\u001b[39;00m k, s\n",
      "File \u001b[1;32mc:\\Users\\Acer\\AppData\\Local\\Programs\\Python\\Python39\\lib\\site-packages\\pandas\\core\\series.py:401\u001b[0m, in \u001b[0;36mSeries.__init__\u001b[1;34m(self, data, index, dtype, name, copy, fastpath)\u001b[0m\n\u001b[0;32m    398\u001b[0m         data \u001b[39m=\u001b[39m data\u001b[39m.\u001b[39m_values\u001b[39m.\u001b[39mcopy()\n\u001b[0;32m    399\u001b[0m     copy \u001b[39m=\u001b[39m \u001b[39mFalse\u001b[39;00m\n\u001b[1;32m--> 401\u001b[0m \u001b[39melif\u001b[39;00m \u001b[39misinstance\u001b[39m(data, np\u001b[39m.\u001b[39mndarray):\n\u001b[0;32m    402\u001b[0m     \u001b[39mif\u001b[39;00m \u001b[39mlen\u001b[39m(data\u001b[39m.\u001b[39mdtype):\n\u001b[0;32m    403\u001b[0m         \u001b[39m# GH#13296 we are dealing with a compound dtype, which\u001b[39;00m\n\u001b[0;32m    404\u001b[0m         \u001b[39m#  should be treated as 2D\u001b[39;00m\n\u001b[0;32m    405\u001b[0m         \u001b[39mraise\u001b[39;00m \u001b[39mValueError\u001b[39;00m(\n\u001b[0;32m    406\u001b[0m             \u001b[39m\"\u001b[39m\u001b[39mCannot construct a Series from an ndarray with \u001b[39m\u001b[39m\"\u001b[39m\n\u001b[0;32m    407\u001b[0m             \u001b[39m\"\u001b[39m\u001b[39mcompound dtype.  Use DataFrame instead.\u001b[39m\u001b[39m\"\u001b[39m\n\u001b[0;32m    408\u001b[0m         )\n",
      "\u001b[1;31mKeyboardInterrupt\u001b[0m: "
     ]
    }
   ],
   "source": [
    "for text in label_text:\n",
    "    for index, row in df.iterrows():\n",
    "        if row['full_text']==text:\n",
    "            label_date=row['created_at']\n",
    "label_date"
   ]
  }
 ],
 "metadata": {
  "kernelspec": {
   "display_name": "Python 3.9.7 64-bit",
   "language": "python",
   "name": "python3"
  },
  "language_info": {
   "codemirror_mode": {
    "name": "ipython",
    "version": 3
   },
   "file_extension": ".py",
   "mimetype": "text/x-python",
   "name": "python",
   "nbconvert_exporter": "python",
   "pygments_lexer": "ipython3",
   "version": "3.9.7"
  },
  "orig_nbformat": 4,
  "vscode": {
   "interpreter": {
    "hash": "56ff1c1c3135541108fe132e771aa45bbbf614a992258041b003da88d6e3d5e1"
   }
  }
 },
 "nbformat": 4,
 "nbformat_minor": 2
}
