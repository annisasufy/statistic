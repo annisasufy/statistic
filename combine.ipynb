{
 "cells": [
  {
   "cell_type": "code",
   "execution_count": 3,
   "metadata": {},
   "outputs": [],
   "source": [
    "import pandas as pd"
   ]
  },
  {
   "cell_type": "code",
   "execution_count": 4,
   "metadata": {},
   "outputs": [],
   "source": [
    "df_1 = pd.read_csv('twitter.csv')"
   ]
  },
  {
   "cell_type": "code",
   "execution_count": 5,
   "metadata": {},
   "outputs": [
    {
     "data": {
      "text/html": [
       "<div>\n",
       "<style scoped>\n",
       "    .dataframe tbody tr th:only-of-type {\n",
       "        vertical-align: middle;\n",
       "    }\n",
       "\n",
       "    .dataframe tbody tr th {\n",
       "        vertical-align: top;\n",
       "    }\n",
       "\n",
       "    .dataframe thead th {\n",
       "        text-align: right;\n",
       "    }\n",
       "</style>\n",
       "<table border=\"1\" class=\"dataframe\">\n",
       "  <thead>\n",
       "    <tr style=\"text-align: right;\">\n",
       "      <th></th>\n",
       "      <th>id_str</th>\n",
       "      <th>created_at</th>\n",
       "      <th>crawled_at</th>\n",
       "      <th>screen_name</th>\n",
       "      <th>full_text</th>\n",
       "      <th>full_tweet</th>\n",
       "    </tr>\n",
       "  </thead>\n",
       "  <tbody>\n",
       "    <tr>\n",
       "      <th>157624</th>\n",
       "      <td>1247456050057367553</td>\n",
       "      <td>2020-04-07 16:27:53</td>\n",
       "      <td>2020-04-07 16:30:09</td>\n",
       "      <td>Rezkydwianti27</td>\n",
       "      <td>Ya Allah kaget, kebiasaan nih mama banguninnya...</td>\n",
       "      <td>{\"created_at\": \"Tue Apr 07 09:27:53 +0000 2020...</td>\n",
       "    </tr>\n",
       "    <tr>\n",
       "      <th>157625</th>\n",
       "      <td>1247461248800706564</td>\n",
       "      <td>2020-04-07 16:48:33</td>\n",
       "      <td>2020-04-07 17:00:09</td>\n",
       "      <td>suarajawatimur</td>\n",
       "      <td>https://t.co/s9JBaGopSb</td>\n",
       "      <td>{\"created_at\": \"Tue Apr 07 09:48:33 +0000 2020...</td>\n",
       "    </tr>\n",
       "    <tr>\n",
       "      <th>157626</th>\n",
       "      <td>1247461274939576326</td>\n",
       "      <td>2020-04-07 16:48:39</td>\n",
       "      <td>2020-04-07 17:00:09</td>\n",
       "      <td>GhaneshRM</td>\n",
       "      <td>dari lahir sampai sekarang omongan anak sndiri...</td>\n",
       "      <td>{\"created_at\": \"Tue Apr 07 09:48:39 +0000 2020...</td>\n",
       "    </tr>\n",
       "    <tr>\n",
       "      <th>157627</th>\n",
       "      <td>1247461772891549696</td>\n",
       "      <td>2020-04-07 16:50:38</td>\n",
       "      <td>2020-04-07 17:00:09</td>\n",
       "      <td>rightafterre</td>\n",
       "      <td>When the wheather is fine tuh keliatannya aja ...</td>\n",
       "      <td>{\"created_at\": \"Tue Apr 07 09:50:38 +0000 2020...</td>\n",
       "    </tr>\n",
       "    <tr>\n",
       "      <th>157628</th>\n",
       "      <td>1247463208262045696</td>\n",
       "      <td>2020-04-07 16:56:20</td>\n",
       "      <td>2020-04-07 17:00:09</td>\n",
       "      <td>siskamawardi</td>\n",
       "      <td>Apakah nikah muda adalah aib keluarga?\\nApakah...</td>\n",
       "      <td>{\"created_at\": \"Tue Apr 07 09:56:20 +0000 2020...</td>\n",
       "    </tr>\n",
       "  </tbody>\n",
       "</table>\n",
       "</div>"
      ],
      "text/plain": [
       "                     id_str           created_at           crawled_at  \\\n",
       "157624  1247456050057367553  2020-04-07 16:27:53  2020-04-07 16:30:09   \n",
       "157625  1247461248800706564  2020-04-07 16:48:33  2020-04-07 17:00:09   \n",
       "157626  1247461274939576326  2020-04-07 16:48:39  2020-04-07 17:00:09   \n",
       "157627  1247461772891549696  2020-04-07 16:50:38  2020-04-07 17:00:09   \n",
       "157628  1247463208262045696  2020-04-07 16:56:20  2020-04-07 17:00:09   \n",
       "\n",
       "           screen_name                                          full_text  \\\n",
       "157624  Rezkydwianti27  Ya Allah kaget, kebiasaan nih mama banguninnya...   \n",
       "157625  suarajawatimur                            https://t.co/s9JBaGopSb   \n",
       "157626       GhaneshRM  dari lahir sampai sekarang omongan anak sndiri...   \n",
       "157627    rightafterre  When the wheather is fine tuh keliatannya aja ...   \n",
       "157628    siskamawardi  Apakah nikah muda adalah aib keluarga?\\nApakah...   \n",
       "\n",
       "                                               full_tweet  \n",
       "157624  {\"created_at\": \"Tue Apr 07 09:27:53 +0000 2020...  \n",
       "157625  {\"created_at\": \"Tue Apr 07 09:48:33 +0000 2020...  \n",
       "157626  {\"created_at\": \"Tue Apr 07 09:48:39 +0000 2020...  \n",
       "157627  {\"created_at\": \"Tue Apr 07 09:50:38 +0000 2020...  \n",
       "157628  {\"created_at\": \"Tue Apr 07 09:56:20 +0000 2020...  "
      ]
     },
     "execution_count": 5,
     "metadata": {},
     "output_type": "execute_result"
    }
   ],
   "source": [
    "df_1.tail()"
   ]
  },
  {
   "cell_type": "code",
   "execution_count": 6,
   "metadata": {},
   "outputs": [],
   "source": [
    "df_2 = pd.read_csv('twitter_label_auto.csv')"
   ]
  },
  {
   "cell_type": "code",
   "execution_count": 8,
   "metadata": {},
   "outputs": [
    {
     "data": {
      "text/html": [
       "<div>\n",
       "<style scoped>\n",
       "    .dataframe tbody tr th:only-of-type {\n",
       "        vertical-align: middle;\n",
       "    }\n",
       "\n",
       "    .dataframe tbody tr th {\n",
       "        vertical-align: top;\n",
       "    }\n",
       "\n",
       "    .dataframe thead th {\n",
       "        text-align: right;\n",
       "    }\n",
       "</style>\n",
       "<table border=\"1\" class=\"dataframe\">\n",
       "  <thead>\n",
       "    <tr style=\"text-align: right;\">\n",
       "      <th></th>\n",
       "      <th>id_str</th>\n",
       "      <th>full_text</th>\n",
       "      <th>processed_text</th>\n",
       "      <th>vectorized_text</th>\n",
       "      <th>predicted_text</th>\n",
       "    </tr>\n",
       "  </thead>\n",
       "  <tbody>\n",
       "    <tr>\n",
       "      <th>156302</th>\n",
       "      <td>1247422544639979520</td>\n",
       "      <td>HBD 37 Ribéry\\n\\n\"Menjadi anak-anak dengan cod...</td>\n",
       "      <td>['hbd', 'ribrymenjadi', 'anakanak', 'codet', '...</td>\n",
       "      <td>[ 0.00101765 -0.03004706  0.00515882  0.033605...</td>\n",
       "      <td>0</td>\n",
       "    </tr>\n",
       "    <tr>\n",
       "      <th>156303</th>\n",
       "      <td>1247423145356623873</td>\n",
       "      <td>Karena setiap makhluk membawa barokahnya masin...</td>\n",
       "      <td>['makhluk', 'membawa', 'barokahnya', 'terkecua...</td>\n",
       "      <td>[ 9.14374925e-03 -5.61500043e-02 -1.23124965e-...</td>\n",
       "      <td>0</td>\n",
       "    </tr>\n",
       "    <tr>\n",
       "      <th>156304</th>\n",
       "      <td>1247427950405795840</td>\n",
       "      <td>btem baru juga dibenerin eh kudu masuk bengkel...</td>\n",
       "      <td>['btem', 'dibenerin', 'eh', 'kudu', 'masuk', '...</td>\n",
       "      <td>[-1.22333346e-02  4.84333299e-02  4.07833308e-...</td>\n",
       "      <td>0</td>\n",
       "    </tr>\n",
       "    <tr>\n",
       "      <th>156305</th>\n",
       "      <td>1247428065526837254</td>\n",
       "      <td>Mas abis kecelakaan ya? | Ngga, kok mba ngomon...</td>\n",
       "      <td>['mas', 'abis', 'kecelakaan', 'ngga', 'mba', '...</td>\n",
       "      <td>[ 2.33124997e-02 -4.98375036e-02  7.00625032e-...</td>\n",
       "      <td>0</td>\n",
       "    </tr>\n",
       "    <tr>\n",
       "      <th>156306</th>\n",
       "      <td>1247429933271375876</td>\n",
       "      <td>TANGGUNG JAWAB KAU GYU!!! \\nWonu jd kecelakaan...</td>\n",
       "      <td>['tanggung', 'kau', 'gyu', 'wonu', 'jd', 'kece...</td>\n",
       "      <td>[ 0.038325   -0.0466125  -0.0133375   0.048487...</td>\n",
       "      <td>0</td>\n",
       "    </tr>\n",
       "  </tbody>\n",
       "</table>\n",
       "</div>"
      ],
      "text/plain": [
       "                     id_str  \\\n",
       "156302  1247422544639979520   \n",
       "156303  1247423145356623873   \n",
       "156304  1247427950405795840   \n",
       "156305  1247428065526837254   \n",
       "156306  1247429933271375876   \n",
       "\n",
       "                                                full_text  \\\n",
       "156302  HBD 37 Ribéry\\n\\n\"Menjadi anak-anak dengan cod...   \n",
       "156303  Karena setiap makhluk membawa barokahnya masin...   \n",
       "156304  btem baru juga dibenerin eh kudu masuk bengkel...   \n",
       "156305  Mas abis kecelakaan ya? | Ngga, kok mba ngomon...   \n",
       "156306  TANGGUNG JAWAB KAU GYU!!! \\nWonu jd kecelakaan...   \n",
       "\n",
       "                                           processed_text  \\\n",
       "156302  ['hbd', 'ribrymenjadi', 'anakanak', 'codet', '...   \n",
       "156303  ['makhluk', 'membawa', 'barokahnya', 'terkecua...   \n",
       "156304  ['btem', 'dibenerin', 'eh', 'kudu', 'masuk', '...   \n",
       "156305  ['mas', 'abis', 'kecelakaan', 'ngga', 'mba', '...   \n",
       "156306  ['tanggung', 'kau', 'gyu', 'wonu', 'jd', 'kece...   \n",
       "\n",
       "                                          vectorized_text  predicted_text  \n",
       "156302  [ 0.00101765 -0.03004706  0.00515882  0.033605...               0  \n",
       "156303  [ 9.14374925e-03 -5.61500043e-02 -1.23124965e-...               0  \n",
       "156304  [-1.22333346e-02  4.84333299e-02  4.07833308e-...               0  \n",
       "156305  [ 2.33124997e-02 -4.98375036e-02  7.00625032e-...               0  \n",
       "156306  [ 0.038325   -0.0466125  -0.0133375   0.048487...               0  "
      ]
     },
     "execution_count": 8,
     "metadata": {},
     "output_type": "execute_result"
    }
   ],
   "source": [
    "df_2.tail()"
   ]
  },
  {
   "cell_type": "code",
   "execution_count": 9,
   "metadata": {},
   "outputs": [],
   "source": [
    "date_list = df_1['created_at'].to_list()"
   ]
  },
  {
   "cell_type": "code",
   "execution_count": 10,
   "metadata": {},
   "outputs": [],
   "source": [
    "twit_list = df_1['full_text'].to_list()"
   ]
  },
  {
   "cell_type": "code",
   "execution_count": 13,
   "metadata": {},
   "outputs": [],
   "source": [
    "df_2_date_list = []\n",
    "for index, row in df_2.iterrows():\n",
    "    idx = twit_list.index(row['full_text'])\n",
    "    df_2_date_list.append(date_list[idx])"
   ]
  },
  {
   "cell_type": "code",
   "execution_count": 1,
   "metadata": {},
   "outputs": [
    {
     "ename": "NameError",
     "evalue": "name 'df_2_date_list' is not defined",
     "output_type": "error",
     "traceback": [
      "\u001b[1;31m---------------------------------------------------------------------------\u001b[0m",
      "\u001b[1;31mNameError\u001b[0m                                 Traceback (most recent call last)",
      "\u001b[1;32mc:\\Users\\MDaniyalK\\Documents\\UGM\\3rd Semester\\Statistics\\Tugas\\Tugas 1\\statistic\\combine.ipynb Cell 9\u001b[0m in \u001b[0;36m<cell line: 1>\u001b[1;34m()\u001b[0m\n\u001b[1;32m----> <a href='vscode-notebook-cell:/c%3A/Users/MDaniyalK/Documents/UGM/3rd%20Semester/Statistics/Tugas/Tugas%201/statistic/combine.ipynb#X11sZmlsZQ%3D%3D?line=0'>1</a>\u001b[0m df_2_date_list\u001b[39m.\u001b[39mhead()\n",
      "\u001b[1;31mNameError\u001b[0m: name 'df_2_date_list' is not defined"
     ]
    }
   ],
   "source": []
  }
 ],
 "metadata": {
  "kernelspec": {
   "display_name": "Python 3.9.4 64-bit",
   "language": "python",
   "name": "python3"
  },
  "language_info": {
   "codemirror_mode": {
    "name": "ipython",
    "version": 3
   },
   "file_extension": ".py",
   "mimetype": "text/x-python",
   "name": "python",
   "nbconvert_exporter": "python",
   "pygments_lexer": "ipython3",
   "version": "3.9.4"
  },
  "orig_nbformat": 4,
  "vscode": {
   "interpreter": {
    "hash": "d428c2a1e34a88b46480b35490d30f1e50265fea0856e59da1459dd84013c8a8"
   }
  }
 },
 "nbformat": 4,
 "nbformat_minor": 2
}
