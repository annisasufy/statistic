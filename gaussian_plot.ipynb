{
 "cells": [
  {
   "cell_type": "code",
   "execution_count": 1,
   "metadata": {},
   "outputs": [],
   "source": [
    "from numpy import random\n",
    "import matplotlib.pyplot as plt\n",
    "import seaborn as sns"
   ]
  },
  {
   "cell_type": "code",
   "execution_count": null,
   "metadata": {},
   "outputs": [],
   "source": [
    "import pandas as pd\n",
    "\n",
    "from scipy import stats\n",
    "from scipy.optimize import curve_fit\n",
    "from scipy import asarray as ar,exp\n",
    "\n",
    "#close all opened figure\n",
    "plt.close(\"all\")\n",
    "\n",
    "\n",
    "#STEP 2: DATA READING---------------------------------------------------------\n",
    "folder_path = 'Data.txt'\n",
    "df_data = pd.read_csv(folder_path, sep=\"\\t\", header=None)\n",
    "\n",
    "#Covert Panda dataframe to numpy\n",
    "df_numpy=df_data.to_numpy(dtype ='float32')\n",
    "\n",
    "#STEP 3: GAUSSIAN LEAST-SQUARE FITTING ---------------------------------------\n",
    "x_data=df_numpy[:,0]\n",
    "\n",
    "hist, bin_edges = np.histogram(x_data)\n",
    "hist=hist/sum(hist)\n",
    "\n",
    "n = len(hist)\n",
    "x_hist=np.zeros((n),dtype=float) \n",
    "for ii in range(n):\n",
    "    x_hist[ii]=(bin_edges[ii+1]+bin_edges[ii])/2\n",
    "    \n",
    "y_hist=hist\n",
    "       \n",
    "#Calculating the Gaussian PDF values given Gaussian parameters and random variable X\n",
    "def gaus(X,C,X_mean,sigma):\n",
    "    return C*exp(-(X-X_mean)**2/(2*sigma**2))\n",
    "\n",
    "mean = sum(x_hist*y_hist)/sum(y_hist)                  \n",
    "sigma = sum(y_hist*(x_hist-mean)**2)/sum(y_hist) \n",
    "\n",
    "#Gaussian least-square fitting process\n",
    "param_optimised,param_covariance_matrix = curve_fit(gaus,x_hist,y_hist,p0=[max(y_hist),mean,sigma],maxfev=5000)\n",
    "\n",
    "#print fit Gaussian parameters\n",
    "print(\"Fit parameters: \")\n",
    "print(\"=====================================================\")\n",
    "print(\"C = \", param_optimised[0], \"+-\",np.sqrt(param_covariance_matrix[0,0]))\n",
    "print(\"X_mean =\", param_optimised[1], \"+-\",np.sqrt(param_covariance_matrix[1,1]))\n",
    "print(\"sigma = \", param_optimised[2], \"+-\",np.sqrt(param_covariance_matrix[2,2]))\n",
    "print(\"\\n\")\n",
    "\n",
    "\n",
    "#STEP 4: PLOTTING THE GAUSSIAN CURVE -----------------------------------------\n",
    "fig = plt.figure()\n",
    "x_hist_2=np.linspace(np.min(x_hist),np.max(x_hist),500)\n",
    "plt.plot(x_hist_2,gaus(x_hist_2,*param_optimised),'r.:',label='Gaussian fit')\n",
    "plt.legend()\n",
    "\n",
    "#Normalise the histogram values\n",
    "weights = np.ones_like(x_data) / len(x_data)\n",
    "plt.hist(x_data, weights=weights)\n",
    "\n",
    "#setting the label,title and grid of the plot\n",
    "plt.xlabel(\"Data: Random variable\")\n",
    "plt.ylabel(\"Probability\")\n",
    "plt.grid(\"on\")\n",
    "plt.show()"
   ]
  },
  {
   "cell_type": "code",
   "execution_count": 9,
   "metadata": {},
   "outputs": [
    {
     "name": "stderr",
     "output_type": "stream",
     "text": [
      "C:\\Users\\Acer\\AppData\\Local\\Temp\\ipykernel_13816\\1308901639.py:1: UserWarning: \n",
      "\n",
      "`distplot` is a deprecated function and will be removed in seaborn v0.14.0.\n",
      "\n",
      "Please adapt your code to use either `displot` (a figure-level function with\n",
      "similar flexibility) or `kdeplot` (an axes-level function for kernel density plots).\n",
      "\n",
      "For a guide to updating your code to use the new functions, please see\n",
      "https://gist.github.com/mwaskom/de44147ed2974457ad6372750bbe5751\n",
      "\n",
      "  sns.distplot(random.normal(size=1000), hist=False)\n"
     ]
    },
    {
     "data": {
      "image/png": "[encoded data removed]",
      "text/plain": [
       "<Figure size 432x288 with 1 Axes>"
      ]
     },
     "metadata": {
      "needs_background": "light"
     },
     "output_type": "display_data"
    }
   ],
   "source": [
    "sns.distplot(random.normal(size=), hist=False)\n",
    "plt.show()"
   ]
  }
 ],
 "metadata": {
  "kernelspec": {
   "display_name": "Python 3.9.7 64-bit",
   "language": "python",
   "name": "python3"
  },
  "language_info": {
   "codemirror_mode": {
    "name": "ipython",
    "version": 3
   },
   "file_extension": ".py",
   "mimetype": "text/x-python",
   "name": "python",
   "nbconvert_exporter": "python",
   "pygments_lexer": "ipython3",
   "version": "3.9.7"
  },
  "orig_nbformat": 4,
  "vscode": {
   "interpreter": {
    "hash": "56ff1c1c3135541108fe132e771aa45bbbf614a992258041b003da88d6e3d5e1"
   }
  }
 },
 "nbformat": 4,
 "nbformat_minor": 2
}
